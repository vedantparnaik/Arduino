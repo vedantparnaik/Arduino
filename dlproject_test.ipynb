{
  "nbformat": 4,
  "nbformat_minor": 0,
  "metadata": {
    "colab": {
      "provenance": [],
      "authorship_tag": "ABX9TyPLTHh5OTPmYkqDentdP4TV",
      "include_colab_link": true
    },
    "kernelspec": {
      "name": "python3",
      "display_name": "Python 3"
    },
    "language_info": {
      "name": "python"
    },
    "accelerator": "TPU",
    "gpuClass": "standard"
  },
  "cells": [
    {
      "cell_type": "markdown",
      "metadata": {
        "id": "view-in-github",
        "colab_type": "text"
      },
      "source": [
        "<a href=\"https://colab.research.google.com/github/vedantparnaik/Arduino/blob/main/dlproject_test.ipynb\" target=\"_parent\"><img src=\"https://colab.research.google.com/assets/colab-badge.svg\" alt=\"Open In Colab\"/></a>"
      ]
    },
    {
      "cell_type": "code",
      "execution_count": null,
      "metadata": {
        "colab": {
          "base_uri": "https://localhost:8080/"
        },
        "id": "uV2Le-2VPsxj",
        "outputId": "db5fe3fe-a911-4fdf-e64b-3d87189ad397"
      },
      "outputs": [
        {
          "output_type": "stream",
          "name": "stdout",
          "text": [
            "Looking in indexes: https://pypi.org/simple, https://us-python.pkg.dev/colab-wheels/public/simple/\n",
            "Requirement already satisfied: numpy in /usr/local/lib/python3.9/dist-packages (1.24.3)\n",
            "Looking in indexes: https://pypi.org/simple, https://us-python.pkg.dev/colab-wheels/public/simple/\n",
            "Requirement already satisfied: pandas in /usr/local/lib/python3.9/dist-packages (1.5.3)\n",
            "Requirement already satisfied: pytz>=2020.1 in /usr/local/lib/python3.9/dist-packages (from pandas) (2022.7.1)\n",
            "Requirement already satisfied: python-dateutil>=2.8.1 in /usr/local/lib/python3.9/dist-packages (from pandas) (2.8.2)\n",
            "Requirement already satisfied: numpy>=1.20.3 in /usr/local/lib/python3.9/dist-packages (from pandas) (1.24.3)\n",
            "Requirement already satisfied: six>=1.5 in /usr/local/lib/python3.9/dist-packages (from python-dateutil>=2.8.1->pandas) (1.16.0)\n",
            "Looking in indexes: https://pypi.org/simple, https://us-python.pkg.dev/colab-wheels/public/simple/\n",
            "Requirement already satisfied: scikit-image in /usr/local/lib/python3.9/dist-packages (0.19.3)\n",
            "Requirement already satisfied: scipy>=1.4.1 in /usr/local/lib/python3.9/dist-packages (from scikit-image) (1.10.1)\n",
            "Requirement already satisfied: pillow!=7.1.0,!=7.1.1,!=8.3.0,>=6.1.0 in /usr/local/lib/python3.9/dist-packages (from scikit-image) (8.4.0)\n",
            "Requirement already satisfied: networkx>=2.2 in /usr/local/lib/python3.9/dist-packages (from scikit-image) (3.1)\n",
            "Requirement already satisfied: PyWavelets>=1.1.1 in /usr/local/lib/python3.9/dist-packages (from scikit-image) (1.4.1)\n",
            "Requirement already satisfied: imageio>=2.4.1 in /usr/local/lib/python3.9/dist-packages (from scikit-image) (2.25.1)\n",
            "Requirement already satisfied: packaging>=20.0 in /usr/local/lib/python3.9/dist-packages (from scikit-image) (23.1)\n",
            "Requirement already satisfied: numpy>=1.17.0 in /usr/local/lib/python3.9/dist-packages (from scikit-image) (1.24.3)\n",
            "Requirement already satisfied: tifffile>=2019.7.26 in /usr/local/lib/python3.9/dist-packages (from scikit-image) (2023.4.12)\n"
          ]
        }
      ],
      "source": [
        "!pip install numpy\n",
        "!pip install pandas\n",
        "!pip install scikit-image "
      ]
    },
    {
      "cell_type": "code",
      "source": [
        "# @title Preprocess: (done) csv to df to tensor; replace nan with -1 \n",
        "import pandas as pd\n",
        "import tensorflow as tf\n",
        "import torch\n",
        "import numpy as np\n",
        "from torch.utils.data import Dataset, DataLoader\n",
        "from torchvision import transforms, utils\n",
        "import warnings\n",
        "\n",
        "# import csv\n",
        "\n",
        "df = pd.read_csv('Semantic_Fluency_test.csv')\n",
        "print(df.shape)\n",
        "print(df.dtypes)\n",
        "#print(list(df.keys()))\n",
        "\n",
        "# removing colms with empty heads\n",
        "\n",
        "for i in range(len(df.keys())):\n",
        "  if 'Unnamed' in list(df.keys()):\n",
        "    df = df.drop(i)\n",
        "print(list(df.head()))   \n",
        "\n",
        "# convert object colms to numericals\n",
        "\n",
        "for colm in df.columns:\n",
        "  if df[colm].dtype == 'object':\n",
        "      df[colm] = pd.to_numeric(df[colm], errors='coerce')\n",
        "print(df.dtypes)\n",
        " \n",
        "# convert df to tensor\n",
        "\n",
        "train_tensor = torch.from_numpy(df.to_numpy().astype(np.float32))\n",
        "print(train_tensor.shape)\n",
        "\n",
        "# replace nan with -1\n",
        "\n",
        "train_tensor = torch.where(torch.isnan(train_tensor),\n",
        "                           torch.full_like(train_tensor, -1),\n",
        "                           train_tensor)\n",
        "\n",
        "# print(train_tensor)\n",
        "\n",
        "# create a temp rand label vector of 0,1\n",
        "# later replace 6994 with df.shape[0]\n",
        "\n",
        "target_tensor_array = np.random.randint(2,size = 6994)\n",
        "target_tensor = torch.tensor(target_tensor_array)\n",
        "print(target_tensor.shape)\n",
        "\n",
        "# dataloader/ custom dataset"
      ],
      "metadata": {
        "colab": {
          "base_uri": "https://localhost:8080/"
        },
        "id": "IqRTydLjTV2v",
        "outputId": "0e326d6f-00b9-4041-e433-5e73c5dd26e8"
      },
      "execution_count": null,
      "outputs": [
        {
          "output_type": "stream",
          "name": "stdout",
          "text": [
            "(6994, 11)\n",
            "REC_ID                  int64\n",
            "F_STATUS               object\n",
            "PATNO                   int64\n",
            "EVENT_ID               object\n",
            "PAG_NAME               object\n",
            "VLTANIM                 int64\n",
            "VLTVEG                float64\n",
            "VLTFRUIT              float64\n",
            "AGE_ASSESS_SFTANIM      int64\n",
            "DVS_SFTANIM             int64\n",
            "DVT_SFTANIM             int64\n",
            "dtype: object\n",
            "['REC_ID', 'F_STATUS', 'PATNO', 'EVENT_ID', 'PAG_NAME', 'VLTANIM', 'VLTVEG', 'VLTFRUIT', 'AGE_ASSESS_SFTANIM', 'DVS_SFTANIM', 'DVT_SFTANIM']\n",
            "REC_ID                  int64\n",
            "F_STATUS              float64\n",
            "PATNO                   int64\n",
            "EVENT_ID              float64\n",
            "PAG_NAME              float64\n",
            "VLTANIM                 int64\n",
            "VLTVEG                float64\n",
            "VLTFRUIT              float64\n",
            "AGE_ASSESS_SFTANIM      int64\n",
            "DVS_SFTANIM             int64\n",
            "DVT_SFTANIM             int64\n",
            "dtype: object\n",
            "torch.Size([6994, 11])\n",
            "torch.Size([6994])\n"
          ]
        }
      ]
    },
    {
      "cell_type": "code",
      "source": [
        "# @title Custom Dataset\n",
        "\n"
      ],
      "metadata": {
        "id": "urnbpg08QHrK"
      },
      "execution_count": null,
      "outputs": []
    },
    {
      "cell_type": "code",
      "source": [],
      "metadata": {
        "id": "wAMeBzWdQISK"
      },
      "execution_count": null,
      "outputs": []
    },
    {
      "cell_type": "code",
      "source": [],
      "metadata": {
        "id": "bRFr8szGQIhP"
      },
      "execution_count": null,
      "outputs": []
    }
  ]
}